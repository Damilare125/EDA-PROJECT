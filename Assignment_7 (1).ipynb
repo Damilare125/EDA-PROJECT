{
 "cells": [
  {
   "cell_type": "markdown",
   "id": "ea4f71cc-3255-4283-93c1-da83a00d1b0d",
   "metadata": {
    "id": "ea4f71cc-3255-4283-93c1-da83a00d1b0d"
   },
   "source": [
    "# Assignment 7 (Week 7)\n",
    "\n",
    ">**Note**: \n",
    "\n",
    "```\n",
    "- Late submissions are penalized.\n",
    "- Only GitHub submissions are acceptable.\n",
    "```\n",
    "\n",
    "## Name: Damilare Sadiq\n",
    "\n",
    "<br>\n",
    "\n",
    "## Please show and display ALL your calculations and results.\n",
    "> Remember to read the **`instructions`** carefully."
   ]
  },
  {
   "cell_type": "code",
   "execution_count": 1,
   "id": "7f659c96-b085-483c-960c-16b53a0312e3",
   "metadata": {
    "id": "7f659c96-b085-483c-960c-16b53a0312e3"
   },
   "outputs": [],
   "source": [
    "# Built-in library\n",
    "import itertools\n",
    "\n",
    "# Standard imports\n",
    "import numpy as np\n",
    "import pandas as pd\n",
    "\n",
    "\n",
    "# pandas settings\n",
    "pd.options.display.max_rows = 1_000\n",
    "pd.options.display.max_columns = 1_000\n",
    "pd.options.display.max_colwidth = 1_000\n",
    "\n",
    "\n",
    "# Black code formatter (Optional)\n",
    "%load_ext lab_black"
   ]
  },
  {
   "cell_type": "code",
   "execution_count": null,
   "id": "10d6ec1e-c5a9-4fc3-b00e-aa9f3966e96f",
   "metadata": {
    "id": "10d6ec1e-c5a9-4fc3-b00e-aa9f3966e96f"
   },
   "outputs": [],
   "source": []
  },
  {
   "cell_type": "markdown",
   "id": "172f8480-1c1d-46b3-a205-87f96b140b69",
   "metadata": {
    "id": "172f8480-1c1d-46b3-a205-87f96b140b69"
   },
   "source": [
    "> The data can be found [here](https://drive.google.com/file/d/1_c3KA14xQC02K0QZ4cpi1emjdz0rqHzb/view?usp=share_link).\n",
    "\n",
    "### Data Dictionary\n",
    "\n",
    "```\n",
    "- Age: continuous.\n",
    "\n",
    "- Workclass: Private, Self-emp-not-inc, Self-emp-inc, Federal-gov, Local-gov, State-gov, Without-pay, Never-worked.\n",
    "\n",
    "- Final_weight: continuous.\n",
    "\n",
    "- Education: Bachelors, Some-college, 11th, HS-grad, Prof-school, Assoc-acdm, Assoc-voc, 9th, 7th-8th, 12th, - Masters, 1st-4th, 10th, Doctorate, 5th-6th, Preschool.\n",
    "\n",
    "- Education_num: continuous.\n",
    "\n",
    "- Marital_status: Married-civ-spouse, Divorced, Never-married, Separated, Widowed, Married-spouse-absent, - Married-AF-spouse.\n",
    "\n",
    "- Occupation: Tech-support, Craft-repair, Other-service, Sales, Exec-managerial, Prof-specialty, Handlers-cleaners, Machine-op-inspct, Adm-clerical, Farming-fishing, Transport-moving, Priv-house-serv, Protective-serv, Armed-Forces.\n",
    "\n",
    "- Relationship: Wife, Own-child, Husband, Not-in-family, Other-relative, Unmarried.\n",
    "\n",
    "- Race: White, Asian-Pac-Islander, Amer-Indian-Eskimo, Other, Black.\n",
    "\n",
    "- Genger: Female, Male.\n",
    "\n",
    "- Capital_gain: continuous.\n",
    "\n",
    "- Capital_loss: continuous.\n",
    "\n",
    "- Hours_per_week: continuous.\n",
    "\n",
    "- Country: United-States, Cambodia, England, Puerto-Rico, Canada, Germany, Outlying-US(Guam-USVI-etc), India, Japan, Greece, South, China, Cuba, Iran, Honduras, Philippines, Italy, Poland, Jamaica, Vietnam, Mexico, Portugal, Ireland, France, Dominican-Republic, Laos, Ecuador, Taiwan, Haiti, Columbia, Hungary, Guatemala, Nicaragua, Scotland, Thailand, Yugoslavia, El-Salvador, Trinadad&Tobago, Peru, Hong, Holand-Netherlands.\n",
    "\n",
    "- Salary: \n",
    "```\n",
    "\n",
    "### Objective\n",
    "\n",
    "```\n",
    "Predict whether a person makes over 50K a year.\n",
    "\n",
    "```"
   ]
  },
  {
   "cell_type": "markdown",
   "id": "35397296-515a-40b0-a7a7-04ddfdff2c4b",
   "metadata": {
    "id": "35397296-515a-40b0-a7a7-04ddfdff2c4b"
   },
   "source": [
    "\n",
    "\n",
    "###  Qs 1. Build a machine learning model that predicts the salary.\n",
    "\n",
    "###  Qs 2. Evaluate the performance of your model using at least three (3) performance metrics.\n",
    "\n",
    "<hr>\n",
    "\n",
    "## Note: \n",
    "\n",
    "- The assignment **should** be submitted through a `public` GitHub repository."
   ]
  },
  {
   "cell_type": "code",
   "execution_count": 2,
   "id": "a0038bcd-5c4a-44f9-abe7-e3887fec07aa",
   "metadata": {
    "colab": {
     "base_uri": "https://localhost:8080/",
     "height": 357
    },
    "id": "a0038bcd-5c4a-44f9-abe7-e3887fec07aa",
    "outputId": "1d8c7481-f33c-4a39-b53b-5b58561cdc7e"
   },
   "outputs": [
    {
     "data": {
      "text/html": [
       "<div>\n",
       "<style scoped>\n",
       "    .dataframe tbody tr th:only-of-type {\n",
       "        vertical-align: middle;\n",
       "    }\n",
       "\n",
       "    .dataframe tbody tr th {\n",
       "        vertical-align: top;\n",
       "    }\n",
       "\n",
       "    .dataframe thead th {\n",
       "        text-align: right;\n",
       "    }\n",
       "</style>\n",
       "<table border=\"1\" class=\"dataframe\">\n",
       "  <thead>\n",
       "    <tr style=\"text-align: right;\">\n",
       "      <th></th>\n",
       "      <th>Age</th>\n",
       "      <th>Workclass</th>\n",
       "      <th>Final_weight</th>\n",
       "      <th>Education</th>\n",
       "      <th>Education_num</th>\n",
       "      <th>Marital_status</th>\n",
       "      <th>Occupation</th>\n",
       "      <th>Relationship</th>\n",
       "      <th>Race</th>\n",
       "      <th>Sex</th>\n",
       "      <th>Capital_gain</th>\n",
       "      <th>Capital_loss</th>\n",
       "      <th>Hours_per_week</th>\n",
       "      <th>Country</th>\n",
       "      <th>Salary</th>\n",
       "    </tr>\n",
       "  </thead>\n",
       "  <tbody>\n",
       "    <tr>\n",
       "      <th>0</th>\n",
       "      <td>50</td>\n",
       "      <td>Self-emp-not-inc</td>\n",
       "      <td>83311</td>\n",
       "      <td>Bachelors</td>\n",
       "      <td>13</td>\n",
       "      <td>Married-civ-spouse</td>\n",
       "      <td>Exec-managerial</td>\n",
       "      <td>Husband</td>\n",
       "      <td>White</td>\n",
       "      <td>Male</td>\n",
       "      <td>0</td>\n",
       "      <td>0</td>\n",
       "      <td>13</td>\n",
       "      <td>United-States</td>\n",
       "      <td>&lt;=50K</td>\n",
       "    </tr>\n",
       "    <tr>\n",
       "      <th>1</th>\n",
       "      <td>38</td>\n",
       "      <td>Private</td>\n",
       "      <td>215646</td>\n",
       "      <td>HS-grad</td>\n",
       "      <td>9</td>\n",
       "      <td>Divorced</td>\n",
       "      <td>Handlers-cleaners</td>\n",
       "      <td>Not-in-family</td>\n",
       "      <td>White</td>\n",
       "      <td>Male</td>\n",
       "      <td>0</td>\n",
       "      <td>0</td>\n",
       "      <td>40</td>\n",
       "      <td>United-States</td>\n",
       "      <td>&lt;=50K</td>\n",
       "    </tr>\n",
       "    <tr>\n",
       "      <th>2</th>\n",
       "      <td>53</td>\n",
       "      <td>Private</td>\n",
       "      <td>234721</td>\n",
       "      <td>11th</td>\n",
       "      <td>7</td>\n",
       "      <td>Married-civ-spouse</td>\n",
       "      <td>Handlers-cleaners</td>\n",
       "      <td>Husband</td>\n",
       "      <td>Black</td>\n",
       "      <td>Male</td>\n",
       "      <td>0</td>\n",
       "      <td>0</td>\n",
       "      <td>40</td>\n",
       "      <td>United-States</td>\n",
       "      <td>&lt;=50K</td>\n",
       "    </tr>\n",
       "    <tr>\n",
       "      <th>3</th>\n",
       "      <td>28</td>\n",
       "      <td>Private</td>\n",
       "      <td>338409</td>\n",
       "      <td>Bachelors</td>\n",
       "      <td>13</td>\n",
       "      <td>Married-civ-spouse</td>\n",
       "      <td>Prof-specialty</td>\n",
       "      <td>Wife</td>\n",
       "      <td>Black</td>\n",
       "      <td>Female</td>\n",
       "      <td>0</td>\n",
       "      <td>0</td>\n",
       "      <td>40</td>\n",
       "      <td>Cuba</td>\n",
       "      <td>&lt;=50K</td>\n",
       "    </tr>\n",
       "    <tr>\n",
       "      <th>4</th>\n",
       "      <td>37</td>\n",
       "      <td>Private</td>\n",
       "      <td>284582</td>\n",
       "      <td>Masters</td>\n",
       "      <td>14</td>\n",
       "      <td>Married-civ-spouse</td>\n",
       "      <td>Exec-managerial</td>\n",
       "      <td>Wife</td>\n",
       "      <td>White</td>\n",
       "      <td>Female</td>\n",
       "      <td>0</td>\n",
       "      <td>0</td>\n",
       "      <td>40</td>\n",
       "      <td>United-States</td>\n",
       "      <td>&lt;=50K</td>\n",
       "    </tr>\n",
       "  </tbody>\n",
       "</table>\n",
       "</div>"
      ],
      "text/plain": [
       "   Age          Workclass  Final_weight   Education  Education_num  \\\n",
       "0   50   Self-emp-not-inc         83311   Bachelors             13   \n",
       "1   38            Private        215646     HS-grad              9   \n",
       "2   53            Private        234721        11th              7   \n",
       "3   28            Private        338409   Bachelors             13   \n",
       "4   37            Private        284582     Masters             14   \n",
       "\n",
       "        Marital_status          Occupation    Relationship    Race      Sex  \\\n",
       "0   Married-civ-spouse     Exec-managerial         Husband   White     Male   \n",
       "1             Divorced   Handlers-cleaners   Not-in-family   White     Male   \n",
       "2   Married-civ-spouse   Handlers-cleaners         Husband   Black     Male   \n",
       "3   Married-civ-spouse      Prof-specialty            Wife   Black   Female   \n",
       "4   Married-civ-spouse     Exec-managerial            Wife   White   Female   \n",
       "\n",
       "   Capital_gain  Capital_loss  Hours_per_week         Country  Salary  \n",
       "0             0             0              13   United-States   <=50K  \n",
       "1             0             0              40   United-States   <=50K  \n",
       "2             0             0              40   United-States   <=50K  \n",
       "3             0             0              40            Cuba   <=50K  \n",
       "4             0             0              40   United-States   <=50K  "
      ]
     },
     "execution_count": 2,
     "metadata": {},
     "output_type": "execute_result"
    }
   ],
   "source": [
    "# Reading the data and veiwing it in pandas\n",
    "df = pd.read_csv(\"salary.csv\")\n",
    "# Making a copy of the data\n",
    "df_1 = df.copy()\n",
    "df_1.head()"
   ]
  },
  {
   "cell_type": "markdown",
   "id": "fd1f0c8a-0713-48b8-a2d0-8cd3fd294a32",
   "metadata": {},
   "source": [
    "**I'm loading the data in pandas, making a copy of the data and showing the first 5(five) rows of the column.**"
   ]
  },
  {
   "cell_type": "code",
   "execution_count": 3,
   "id": "8HrZG-lwlbff",
   "metadata": {
    "colab": {
     "base_uri": "https://localhost:8080/",
     "height": 206
    },
    "id": "8HrZG-lwlbff",
    "outputId": "d29a42eb-1cf0-4f0c-c4e9-f72d6957b237"
   },
   "outputs": [
    {
     "data": {
      "text/html": [
       "<div>\n",
       "<style scoped>\n",
       "    .dataframe tbody tr th:only-of-type {\n",
       "        vertical-align: middle;\n",
       "    }\n",
       "\n",
       "    .dataframe tbody tr th {\n",
       "        vertical-align: top;\n",
       "    }\n",
       "\n",
       "    .dataframe thead th {\n",
       "        text-align: right;\n",
       "    }\n",
       "</style>\n",
       "<table border=\"1\" class=\"dataframe\">\n",
       "  <thead>\n",
       "    <tr style=\"text-align: right;\">\n",
       "      <th></th>\n",
       "      <th>Age</th>\n",
       "      <th>Final_weight</th>\n",
       "      <th>Education_num</th>\n",
       "      <th>Sex</th>\n",
       "      <th>Capital_gain</th>\n",
       "      <th>Capital_loss</th>\n",
       "      <th>Hours_per_week</th>\n",
       "      <th>Salary</th>\n",
       "    </tr>\n",
       "  </thead>\n",
       "  <tbody>\n",
       "    <tr>\n",
       "      <th>0</th>\n",
       "      <td>50</td>\n",
       "      <td>83311</td>\n",
       "      <td>13</td>\n",
       "      <td>Male</td>\n",
       "      <td>0</td>\n",
       "      <td>0</td>\n",
       "      <td>13</td>\n",
       "      <td>&lt;=50K</td>\n",
       "    </tr>\n",
       "    <tr>\n",
       "      <th>1</th>\n",
       "      <td>38</td>\n",
       "      <td>215646</td>\n",
       "      <td>9</td>\n",
       "      <td>Male</td>\n",
       "      <td>0</td>\n",
       "      <td>0</td>\n",
       "      <td>40</td>\n",
       "      <td>&lt;=50K</td>\n",
       "    </tr>\n",
       "    <tr>\n",
       "      <th>2</th>\n",
       "      <td>53</td>\n",
       "      <td>234721</td>\n",
       "      <td>7</td>\n",
       "      <td>Male</td>\n",
       "      <td>0</td>\n",
       "      <td>0</td>\n",
       "      <td>40</td>\n",
       "      <td>&lt;=50K</td>\n",
       "    </tr>\n",
       "    <tr>\n",
       "      <th>3</th>\n",
       "      <td>28</td>\n",
       "      <td>338409</td>\n",
       "      <td>13</td>\n",
       "      <td>Female</td>\n",
       "      <td>0</td>\n",
       "      <td>0</td>\n",
       "      <td>40</td>\n",
       "      <td>&lt;=50K</td>\n",
       "    </tr>\n",
       "    <tr>\n",
       "      <th>4</th>\n",
       "      <td>37</td>\n",
       "      <td>284582</td>\n",
       "      <td>14</td>\n",
       "      <td>Female</td>\n",
       "      <td>0</td>\n",
       "      <td>0</td>\n",
       "      <td>40</td>\n",
       "      <td>&lt;=50K</td>\n",
       "    </tr>\n",
       "  </tbody>\n",
       "</table>\n",
       "</div>"
      ],
      "text/plain": [
       "   Age  Final_weight  Education_num      Sex  Capital_gain  Capital_loss  \\\n",
       "0   50         83311             13     Male             0             0   \n",
       "1   38        215646              9     Male             0             0   \n",
       "2   53        234721              7     Male             0             0   \n",
       "3   28        338409             13   Female             0             0   \n",
       "4   37        284582             14   Female             0             0   \n",
       "\n",
       "   Hours_per_week  Salary  \n",
       "0              13   <=50K  \n",
       "1              40   <=50K  \n",
       "2              40   <=50K  \n",
       "3              40   <=50K  \n",
       "4              40   <=50K  "
      ]
     },
     "execution_count": 3,
     "metadata": {},
     "output_type": "execute_result"
    }
   ],
   "source": [
    "# Dropping the unnecessary columns\n",
    "col_to_drp = [\n",
    "    \"Workclass\",\n",
    "    \"Education\",\n",
    "    \"Marital_status\",\n",
    "    \"Occupation\",\n",
    "    \"Relationship\",\n",
    "    \"Race\",\n",
    "    \"Country\",\n",
    "]\n",
    "df_1.drop(columns=col_to_drp, inplace=True)\n",
    "df_1.head()"
   ]
  },
  {
   "cell_type": "markdown",
   "id": "16d0f710-9957-4829-a3ea-ac3a18fe0c01",
   "metadata": {},
   "source": [
    "**I'm dropping uneccessary columns in the data and showing the first five(5) rows.**"
   ]
  },
  {
   "cell_type": "code",
   "execution_count": 4,
   "id": "2e0d3a49-67a1-433d-a7f8-6ff80d5ef799",
   "metadata": {
    "colab": {
     "base_uri": "https://localhost:8080/"
    },
    "id": "2e0d3a49-67a1-433d-a7f8-6ff80d5ef799",
    "outputId": "92ad0420-78ff-4236-9e12-2419f18edb41"
   },
   "outputs": [
    {
     "data": {
      "text/plain": [
       "(32560, 15)"
      ]
     },
     "execution_count": 4,
     "metadata": {},
     "output_type": "execute_result"
    }
   ],
   "source": [
    "# Checking the shape of the data\n",
    "df.shape"
   ]
  },
  {
   "cell_type": "markdown",
   "id": "4333d32b-d799-4d35-a751-78f743760e27",
   "metadata": {},
   "source": [
    "**Shape of the original data having 32560 rows and 15 columns.**"
   ]
  },
  {
   "cell_type": "code",
   "execution_count": 5,
   "id": "npxPhLdHpxKl",
   "metadata": {
    "colab": {
     "base_uri": "https://localhost:8080/"
    },
    "id": "npxPhLdHpxKl",
    "outputId": "dd25b9ef-1271-4421-86e9-334ea6a91ee2"
   },
   "outputs": [
    {
     "data": {
      "text/plain": [
       "(32560, 8)"
      ]
     },
     "execution_count": 5,
     "metadata": {},
     "output_type": "execute_result"
    }
   ],
   "source": [
    "# Checking the shape of the copied data after dropping some variables.\n",
    "df_1.shape"
   ]
  },
  {
   "cell_type": "markdown",
   "id": "6c721da5-063a-4f64-9931-c392272c65fb",
   "metadata": {},
   "source": [
    "**Shape of the copied data after dropping the uneccessary columns showing 32560 rows and 8 columns.**"
   ]
  },
  {
   "cell_type": "code",
   "execution_count": 6,
   "id": "wKtmZIWEkUNc",
   "metadata": {
    "colab": {
     "base_uri": "https://localhost:8080/"
    },
    "id": "wKtmZIWEkUNc",
    "outputId": "8020340a-c6a1-4af4-f342-d6162e4cda7f"
   },
   "outputs": [
    {
     "data": {
      "text/plain": [
       "Age               0\n",
       "Final_weight      0\n",
       "Education_num     0\n",
       "Sex               0\n",
       "Capital_gain      0\n",
       "Capital_loss      0\n",
       "Hours_per_week    0\n",
       "Salary            0\n",
       "dtype: int64"
      ]
     },
     "execution_count": 6,
     "metadata": {},
     "output_type": "execute_result"
    }
   ],
   "source": [
    "# Checking the missing value\n",
    "df_1.isna().sum()"
   ]
  },
  {
   "cell_type": "markdown",
   "id": "26e6fe86-703d-4c24-867e-20ef79304aed",
   "metadata": {},
   "source": [
    "**Checking if there are missing values in the data and as it's shown above there is zero(0) missing values in the columns.**"
   ]
  },
  {
   "cell_type": "code",
   "execution_count": 7,
   "id": "c3f3df01-0e2c-4364-b694-222e65df8a2b",
   "metadata": {
    "colab": {
     "base_uri": "https://localhost:8080/"
    },
    "id": "c3f3df01-0e2c-4364-b694-222e65df8a2b",
    "outputId": "9c4a5889-c454-4e95-8891-c6218d09a566"
   },
   "outputs": [
    {
     "data": {
      "text/plain": [
       " <=50K    75.918305\n",
       " >50K     24.081695\n",
       "Name: Salary, dtype: float64"
      ]
     },
     "execution_count": 7,
     "metadata": {},
     "output_type": "execute_result"
    }
   ],
   "source": [
    "# Checking the percentage of value in salary\n",
    "df_1[\"Salary\"].value_counts(normalize=True).mul(100)"
   ]
  },
  {
   "cell_type": "markdown",
   "id": "2738ebc4-9e34-4068-8953-78d29a8dc192",
   "metadata": {},
   "source": [
    "**Here I'm checking the value count of the variables in the salary column.**"
   ]
  },
  {
   "cell_type": "code",
   "execution_count": 8,
   "id": "424a5339-185b-4cc1-ba07-e5e0c9d31935",
   "metadata": {
    "id": "424a5339-185b-4cc1-ba07-e5e0c9d31935"
   },
   "outputs": [],
   "source": [
    "# Initializing the constant\n",
    "RANDOM_STATE = 123\n",
    "TEST_SIZE = 0.2\n",
    "TARGET = \"Salary\""
   ]
  },
  {
   "cell_type": "markdown",
   "id": "e1f814a1-4ff3-4bb3-a58a-52b7c4f1bab9",
   "metadata": {},
   "source": [
    "**In the cell above I'm initializing the constant randow state and test size.**"
   ]
  },
  {
   "cell_type": "code",
   "execution_count": 9,
   "id": "UlEOaAsjrMQp",
   "metadata": {
    "colab": {
     "base_uri": "https://localhost:8080/"
    },
    "id": "UlEOaAsjrMQp",
    "outputId": "daf589bb-9bb0-4eb0-915e-f686877fccab"
   },
   "outputs": [
    {
     "data": {
      "text/plain": [
       "((26048, 7), (6512, 7))"
      ]
     },
     "execution_count": 9,
     "metadata": {},
     "output_type": "execute_result"
    }
   ],
   "source": [
    "from sklearn.model_selection import train_test_split\n",
    "\n",
    "# Matrix as the independent features\n",
    "X = df_1.drop(columns=TARGET)\n",
    "\n",
    "# Vector as the target variable\n",
    "y = df_1[TARGET]\n",
    "\n",
    "# Splitting into train and test\n",
    "X_train, X_test, y_train, y_test = train_test_split(\n",
    "    X, y, test_size=TEST_SIZE, random_state=RANDOM_STATE\n",
    ")\n",
    "\n",
    "X_train.shape, X_test.shape"
   ]
  },
  {
   "cell_type": "markdown",
   "id": "6bcd5595-0baa-4646-8793-37080d4c5603",
   "metadata": {},
   "source": [
    "**I'm splitting the data into train and test using the train_test_split from sklearn.**"
   ]
  },
  {
   "cell_type": "code",
   "execution_count": 10,
   "id": "0tv5eRnPvV_S",
   "metadata": {
    "colab": {
     "base_uri": "https://localhost:8080/"
    },
    "id": "0tv5eRnPvV_S",
    "outputId": "c84adc3e-3d5d-4042-ed05-4bbaefd53ebc"
   },
   "outputs": [
    {
     "data": {
      "text/plain": [
       "6994      <=50K\n",
       "17064     <=50K\n",
       "18434     <=50K\n",
       "3294      <=50K\n",
       "31316     <=50K\n",
       "Name: Salary, dtype: object"
      ]
     },
     "execution_count": 10,
     "metadata": {},
     "output_type": "execute_result"
    }
   ],
   "source": [
    "# Showing the shuffled split of the y_train.\n",
    "y_train.head()"
   ]
  },
  {
   "cell_type": "code",
   "execution_count": 11,
   "id": "gdZUbyqDvffs",
   "metadata": {
    "colab": {
     "base_uri": "https://localhost:8080/"
    },
    "id": "gdZUbyqDvffs",
    "outputId": "8d2d88d5-f2d5-4716-f890-dab392e9086e"
   },
   "outputs": [
    {
     "data": {
      "text/plain": [
       "20712     <=50K\n",
       "13495     <=50K\n",
       "12367     <=50K\n",
       "22401      >50K\n",
       "18338     <=50K\n",
       "Name: Salary, dtype: object"
      ]
     },
     "execution_count": 11,
     "metadata": {},
     "output_type": "execute_result"
    }
   ],
   "source": [
    "# Showing the y_test shuffled split first 5 rows.\n",
    "y_test.head()"
   ]
  },
  {
   "cell_type": "code",
   "execution_count": 12,
   "id": "509fe1b2-5375-4109-ab4e-1972bcedb43a",
   "metadata": {
    "colab": {
     "base_uri": "https://localhost:8080/",
     "height": 206
    },
    "id": "509fe1b2-5375-4109-ab4e-1972bcedb43a",
    "outputId": "1d0bfb7b-e8c4-42cd-9fdf-43107e5e5a3d"
   },
   "outputs": [
    {
     "data": {
      "text/html": [
       "<div>\n",
       "<style scoped>\n",
       "    .dataframe tbody tr th:only-of-type {\n",
       "        vertical-align: middle;\n",
       "    }\n",
       "\n",
       "    .dataframe tbody tr th {\n",
       "        vertical-align: top;\n",
       "    }\n",
       "\n",
       "    .dataframe thead th {\n",
       "        text-align: right;\n",
       "    }\n",
       "</style>\n",
       "<table border=\"1\" class=\"dataframe\">\n",
       "  <thead>\n",
       "    <tr style=\"text-align: right;\">\n",
       "      <th></th>\n",
       "      <th>Age</th>\n",
       "      <th>Final_weight</th>\n",
       "      <th>Education_num</th>\n",
       "      <th>Sex</th>\n",
       "      <th>Capital_gain</th>\n",
       "      <th>Capital_loss</th>\n",
       "      <th>Hours_per_week</th>\n",
       "    </tr>\n",
       "  </thead>\n",
       "  <tbody>\n",
       "    <tr>\n",
       "      <th>6994</th>\n",
       "      <td>20</td>\n",
       "      <td>168863</td>\n",
       "      <td>10</td>\n",
       "      <td>Female</td>\n",
       "      <td>0</td>\n",
       "      <td>0</td>\n",
       "      <td>20</td>\n",
       "    </tr>\n",
       "    <tr>\n",
       "      <th>17064</th>\n",
       "      <td>22</td>\n",
       "      <td>270436</td>\n",
       "      <td>9</td>\n",
       "      <td>Male</td>\n",
       "      <td>0</td>\n",
       "      <td>0</td>\n",
       "      <td>40</td>\n",
       "    </tr>\n",
       "    <tr>\n",
       "      <th>18434</th>\n",
       "      <td>36</td>\n",
       "      <td>405644</td>\n",
       "      <td>9</td>\n",
       "      <td>Male</td>\n",
       "      <td>0</td>\n",
       "      <td>0</td>\n",
       "      <td>35</td>\n",
       "    </tr>\n",
       "    <tr>\n",
       "      <th>3294</th>\n",
       "      <td>22</td>\n",
       "      <td>51136</td>\n",
       "      <td>10</td>\n",
       "      <td>Female</td>\n",
       "      <td>0</td>\n",
       "      <td>0</td>\n",
       "      <td>60</td>\n",
       "    </tr>\n",
       "    <tr>\n",
       "      <th>31316</th>\n",
       "      <td>23</td>\n",
       "      <td>50953</td>\n",
       "      <td>10</td>\n",
       "      <td>Female</td>\n",
       "      <td>0</td>\n",
       "      <td>0</td>\n",
       "      <td>40</td>\n",
       "    </tr>\n",
       "  </tbody>\n",
       "</table>\n",
       "</div>"
      ],
      "text/plain": [
       "       Age  Final_weight  Education_num      Sex  Capital_gain  Capital_loss  \\\n",
       "6994    20        168863             10   Female             0             0   \n",
       "17064   22        270436              9     Male             0             0   \n",
       "18434   36        405644              9     Male             0             0   \n",
       "3294    22         51136             10   Female             0             0   \n",
       "31316   23         50953             10   Female             0             0   \n",
       "\n",
       "       Hours_per_week  \n",
       "6994               20  \n",
       "17064              40  \n",
       "18434              35  \n",
       "3294               60  \n",
       "31316              40  "
      ]
     },
     "execution_count": 12,
     "metadata": {},
     "output_type": "execute_result"
    }
   ],
   "source": [
    "# Showing the X-train shuffled split first 5 rows.\n",
    "X_train.head()"
   ]
  },
  {
   "cell_type": "code",
   "execution_count": 13,
   "id": "fIeK0w4CuBWi",
   "metadata": {
    "colab": {
     "base_uri": "https://localhost:8080/",
     "height": 116
    },
    "id": "fIeK0w4CuBWi",
    "outputId": "9fc18141-3071-4a8f-8022-33379af8c456"
   },
   "outputs": [
    {
     "data": {
      "text/html": [
       "<style>#sk-container-id-1 {color: black;background-color: white;}#sk-container-id-1 pre{padding: 0;}#sk-container-id-1 div.sk-toggleable {background-color: white;}#sk-container-id-1 label.sk-toggleable__label {cursor: pointer;display: block;width: 100%;margin-bottom: 0;padding: 0.3em;box-sizing: border-box;text-align: center;}#sk-container-id-1 label.sk-toggleable__label-arrow:before {content: \"▸\";float: left;margin-right: 0.25em;color: #696969;}#sk-container-id-1 label.sk-toggleable__label-arrow:hover:before {color: black;}#sk-container-id-1 div.sk-estimator:hover label.sk-toggleable__label-arrow:before {color: black;}#sk-container-id-1 div.sk-toggleable__content {max-height: 0;max-width: 0;overflow: hidden;text-align: left;background-color: #f0f8ff;}#sk-container-id-1 div.sk-toggleable__content pre {margin: 0.2em;color: black;border-radius: 0.25em;background-color: #f0f8ff;}#sk-container-id-1 input.sk-toggleable__control:checked~div.sk-toggleable__content {max-height: 200px;max-width: 100%;overflow: auto;}#sk-container-id-1 input.sk-toggleable__control:checked~label.sk-toggleable__label-arrow:before {content: \"▾\";}#sk-container-id-1 div.sk-estimator input.sk-toggleable__control:checked~label.sk-toggleable__label {background-color: #d4ebff;}#sk-container-id-1 div.sk-label input.sk-toggleable__control:checked~label.sk-toggleable__label {background-color: #d4ebff;}#sk-container-id-1 input.sk-hidden--visually {border: 0;clip: rect(1px 1px 1px 1px);clip: rect(1px, 1px, 1px, 1px);height: 1px;margin: -1px;overflow: hidden;padding: 0;position: absolute;width: 1px;}#sk-container-id-1 div.sk-estimator {font-family: monospace;background-color: #f0f8ff;border: 1px dotted black;border-radius: 0.25em;box-sizing: border-box;margin-bottom: 0.5em;}#sk-container-id-1 div.sk-estimator:hover {background-color: #d4ebff;}#sk-container-id-1 div.sk-parallel-item::after {content: \"\";width: 100%;border-bottom: 1px solid gray;flex-grow: 1;}#sk-container-id-1 div.sk-label:hover label.sk-toggleable__label {background-color: #d4ebff;}#sk-container-id-1 div.sk-serial::before {content: \"\";position: absolute;border-left: 1px solid gray;box-sizing: border-box;top: 0;bottom: 0;left: 50%;z-index: 0;}#sk-container-id-1 div.sk-serial {display: flex;flex-direction: column;align-items: center;background-color: white;padding-right: 0.2em;padding-left: 0.2em;position: relative;}#sk-container-id-1 div.sk-item {position: relative;z-index: 1;}#sk-container-id-1 div.sk-parallel {display: flex;align-items: stretch;justify-content: center;background-color: white;position: relative;}#sk-container-id-1 div.sk-item::before, #sk-container-id-1 div.sk-parallel-item::before {content: \"\";position: absolute;border-left: 1px solid gray;box-sizing: border-box;top: 0;bottom: 0;left: 50%;z-index: -1;}#sk-container-id-1 div.sk-parallel-item {display: flex;flex-direction: column;z-index: 1;position: relative;background-color: white;}#sk-container-id-1 div.sk-parallel-item:first-child::after {align-self: flex-end;width: 50%;}#sk-container-id-1 div.sk-parallel-item:last-child::after {align-self: flex-start;width: 50%;}#sk-container-id-1 div.sk-parallel-item:only-child::after {width: 0;}#sk-container-id-1 div.sk-dashed-wrapped {border: 1px dashed gray;margin: 0 0.4em 0.5em 0.4em;box-sizing: border-box;padding-bottom: 0.4em;background-color: white;}#sk-container-id-1 div.sk-label label {font-family: monospace;font-weight: bold;display: inline-block;line-height: 1.2em;}#sk-container-id-1 div.sk-label-container {text-align: center;}#sk-container-id-1 div.sk-container {/* jupyter's `normalize.less` sets `[hidden] { display: none; }` but bootstrap.min.css set `[hidden] { display: none !important; }` so we also need the `!important` here to be able to override the default hidden behavior on the sphinx rendered scikit-learn.org. See: https://github.com/scikit-learn/scikit-learn/issues/21755 */display: inline-block !important;position: relative;}#sk-container-id-1 div.sk-text-repr-fallback {display: none;}</style><div id=\"sk-container-id-1\" class=\"sk-top-container\"><div class=\"sk-text-repr-fallback\"><pre>ColumnTransformer(remainder=&#x27;passthrough&#x27;,\n",
       "                  transformers=[(&#x27;ohe&#x27;,\n",
       "                                 OneHotEncoder(dtype=&lt;class &#x27;int&#x27;&gt;,\n",
       "                                               handle_unknown=&#x27;ignore&#x27;),\n",
       "                                 [&#x27;Education_num&#x27;, &#x27;Sex&#x27;, &#x27;Capital_gain&#x27;,\n",
       "                                  &#x27;Capital_loss&#x27;, &#x27;Hours_per_week&#x27;]),\n",
       "                                (&#x27;scaler&#x27;, MinMaxScaler(),\n",
       "                                 [&#x27;Age&#x27;, &#x27;Final_weight&#x27;])])</pre><b>In a Jupyter environment, please rerun this cell to show the HTML representation or trust the notebook. <br />On GitHub, the HTML representation is unable to render, please try loading this page with nbviewer.org.</b></div><div class=\"sk-container\" hidden><div class=\"sk-item sk-dashed-wrapped\"><div class=\"sk-label-container\"><div class=\"sk-label sk-toggleable\"><input class=\"sk-toggleable__control sk-hidden--visually\" id=\"sk-estimator-id-1\" type=\"checkbox\" ><label for=\"sk-estimator-id-1\" class=\"sk-toggleable__label sk-toggleable__label-arrow\">ColumnTransformer</label><div class=\"sk-toggleable__content\"><pre>ColumnTransformer(remainder=&#x27;passthrough&#x27;,\n",
       "                  transformers=[(&#x27;ohe&#x27;,\n",
       "                                 OneHotEncoder(dtype=&lt;class &#x27;int&#x27;&gt;,\n",
       "                                               handle_unknown=&#x27;ignore&#x27;),\n",
       "                                 [&#x27;Education_num&#x27;, &#x27;Sex&#x27;, &#x27;Capital_gain&#x27;,\n",
       "                                  &#x27;Capital_loss&#x27;, &#x27;Hours_per_week&#x27;]),\n",
       "                                (&#x27;scaler&#x27;, MinMaxScaler(),\n",
       "                                 [&#x27;Age&#x27;, &#x27;Final_weight&#x27;])])</pre></div></div></div><div class=\"sk-parallel\"><div class=\"sk-parallel-item\"><div class=\"sk-item\"><div class=\"sk-label-container\"><div class=\"sk-label sk-toggleable\"><input class=\"sk-toggleable__control sk-hidden--visually\" id=\"sk-estimator-id-2\" type=\"checkbox\" ><label for=\"sk-estimator-id-2\" class=\"sk-toggleable__label sk-toggleable__label-arrow\">ohe</label><div class=\"sk-toggleable__content\"><pre>[&#x27;Education_num&#x27;, &#x27;Sex&#x27;, &#x27;Capital_gain&#x27;, &#x27;Capital_loss&#x27;, &#x27;Hours_per_week&#x27;]</pre></div></div></div><div class=\"sk-serial\"><div class=\"sk-item\"><div class=\"sk-estimator sk-toggleable\"><input class=\"sk-toggleable__control sk-hidden--visually\" id=\"sk-estimator-id-3\" type=\"checkbox\" ><label for=\"sk-estimator-id-3\" class=\"sk-toggleable__label sk-toggleable__label-arrow\">OneHotEncoder</label><div class=\"sk-toggleable__content\"><pre>OneHotEncoder(dtype=&lt;class &#x27;int&#x27;&gt;, handle_unknown=&#x27;ignore&#x27;)</pre></div></div></div></div></div></div><div class=\"sk-parallel-item\"><div class=\"sk-item\"><div class=\"sk-label-container\"><div class=\"sk-label sk-toggleable\"><input class=\"sk-toggleable__control sk-hidden--visually\" id=\"sk-estimator-id-4\" type=\"checkbox\" ><label for=\"sk-estimator-id-4\" class=\"sk-toggleable__label sk-toggleable__label-arrow\">scaler</label><div class=\"sk-toggleable__content\"><pre>[&#x27;Age&#x27;, &#x27;Final_weight&#x27;]</pre></div></div></div><div class=\"sk-serial\"><div class=\"sk-item\"><div class=\"sk-estimator sk-toggleable\"><input class=\"sk-toggleable__control sk-hidden--visually\" id=\"sk-estimator-id-5\" type=\"checkbox\" ><label for=\"sk-estimator-id-5\" class=\"sk-toggleable__label sk-toggleable__label-arrow\">MinMaxScaler</label><div class=\"sk-toggleable__content\"><pre>MinMaxScaler()</pre></div></div></div></div></div></div><div class=\"sk-parallel-item\"><div class=\"sk-item\"><div class=\"sk-label-container\"><div class=\"sk-label sk-toggleable\"><input class=\"sk-toggleable__control sk-hidden--visually\" id=\"sk-estimator-id-6\" type=\"checkbox\" ><label for=\"sk-estimator-id-6\" class=\"sk-toggleable__label sk-toggleable__label-arrow\">remainder</label><div class=\"sk-toggleable__content\"><pre></pre></div></div></div><div class=\"sk-serial\"><div class=\"sk-item\"><div class=\"sk-estimator sk-toggleable\"><input class=\"sk-toggleable__control sk-hidden--visually\" id=\"sk-estimator-id-7\" type=\"checkbox\" ><label for=\"sk-estimator-id-7\" class=\"sk-toggleable__label sk-toggleable__label-arrow\">passthrough</label><div class=\"sk-toggleable__content\"><pre>passthrough</pre></div></div></div></div></div></div></div></div></div></div>"
      ],
      "text/plain": [
       "ColumnTransformer(remainder='passthrough',\n",
       "                  transformers=[('ohe',\n",
       "                                 OneHotEncoder(dtype=<class 'int'>,\n",
       "                                               handle_unknown='ignore'),\n",
       "                                 ['Education_num', 'Sex', 'Capital_gain',\n",
       "                                  'Capital_loss', 'Hours_per_week']),\n",
       "                                ('scaler', MinMaxScaler(),\n",
       "                                 ['Age', 'Final_weight'])])"
      ]
     },
     "execution_count": 13,
     "metadata": {},
     "output_type": "execute_result"
    }
   ],
   "source": [
    "from sklearn.compose import ColumnTransformer\n",
    "from sklearn.pipeline import Pipeline\n",
    "from sklearn.preprocessing import OneHotEncoder, MinMaxScaler\n",
    "\n",
    "cols_to_scale = [\"Age\", \"Final_weight\"]\n",
    "cols_to_enc = [\"Education_num\", \"Sex\", \"Capital_gain\", \"Capital_loss\", \"Hours_per_week\"]\n",
    "\n",
    "# OneHotEncoding\n",
    "ohe = OneHotEncoder(dtype=int, handle_unknown=\"ignore\")\n",
    "\n",
    "# Scaler\n",
    "scaler = MinMaxScaler()\n",
    "\n",
    "# Creating a pipeline of coloumn transformer that encode and scale variables\n",
    "col_transform = ColumnTransformer(\n",
    "    transformers=[(\"ohe\", ohe, cols_to_enc), (\"scaler\", scaler, cols_to_scale)],\n",
    "    remainder=\"passthrough\",\n",
    ")\n",
    "\n",
    "col_transform"
   ]
  },
  {
   "cell_type": "markdown",
   "id": "0e325d7d-0b49-4034-a890-197fae79acb2",
   "metadata": {},
   "source": [
    "**In the cell above, I used a pipeline and column transformer to scale the age and final weight columns using MinMaxScaler and also to encode the education num, sex, capital gain, capital loss and hours per week columns using OneHotEncoder.**"
   ]
  },
  {
   "cell_type": "code",
   "execution_count": 14,
   "id": "XkZPA0S_z0AJ",
   "metadata": {
    "colab": {
     "base_uri": "https://localhost:8080/",
     "height": 189
    },
    "id": "XkZPA0S_z0AJ",
    "outputId": "5076beb1-f588-48ae-d68b-d9d496e54b6f"
   },
   "outputs": [
    {
     "data": {
      "text/html": [
       "<style>#sk-container-id-2 {color: black;background-color: white;}#sk-container-id-2 pre{padding: 0;}#sk-container-id-2 div.sk-toggleable {background-color: white;}#sk-container-id-2 label.sk-toggleable__label {cursor: pointer;display: block;width: 100%;margin-bottom: 0;padding: 0.3em;box-sizing: border-box;text-align: center;}#sk-container-id-2 label.sk-toggleable__label-arrow:before {content: \"▸\";float: left;margin-right: 0.25em;color: #696969;}#sk-container-id-2 label.sk-toggleable__label-arrow:hover:before {color: black;}#sk-container-id-2 div.sk-estimator:hover label.sk-toggleable__label-arrow:before {color: black;}#sk-container-id-2 div.sk-toggleable__content {max-height: 0;max-width: 0;overflow: hidden;text-align: left;background-color: #f0f8ff;}#sk-container-id-2 div.sk-toggleable__content pre {margin: 0.2em;color: black;border-radius: 0.25em;background-color: #f0f8ff;}#sk-container-id-2 input.sk-toggleable__control:checked~div.sk-toggleable__content {max-height: 200px;max-width: 100%;overflow: auto;}#sk-container-id-2 input.sk-toggleable__control:checked~label.sk-toggleable__label-arrow:before {content: \"▾\";}#sk-container-id-2 div.sk-estimator input.sk-toggleable__control:checked~label.sk-toggleable__label {background-color: #d4ebff;}#sk-container-id-2 div.sk-label input.sk-toggleable__control:checked~label.sk-toggleable__label {background-color: #d4ebff;}#sk-container-id-2 input.sk-hidden--visually {border: 0;clip: rect(1px 1px 1px 1px);clip: rect(1px, 1px, 1px, 1px);height: 1px;margin: -1px;overflow: hidden;padding: 0;position: absolute;width: 1px;}#sk-container-id-2 div.sk-estimator {font-family: monospace;background-color: #f0f8ff;border: 1px dotted black;border-radius: 0.25em;box-sizing: border-box;margin-bottom: 0.5em;}#sk-container-id-2 div.sk-estimator:hover {background-color: #d4ebff;}#sk-container-id-2 div.sk-parallel-item::after {content: \"\";width: 100%;border-bottom: 1px solid gray;flex-grow: 1;}#sk-container-id-2 div.sk-label:hover label.sk-toggleable__label {background-color: #d4ebff;}#sk-container-id-2 div.sk-serial::before {content: \"\";position: absolute;border-left: 1px solid gray;box-sizing: border-box;top: 0;bottom: 0;left: 50%;z-index: 0;}#sk-container-id-2 div.sk-serial {display: flex;flex-direction: column;align-items: center;background-color: white;padding-right: 0.2em;padding-left: 0.2em;position: relative;}#sk-container-id-2 div.sk-item {position: relative;z-index: 1;}#sk-container-id-2 div.sk-parallel {display: flex;align-items: stretch;justify-content: center;background-color: white;position: relative;}#sk-container-id-2 div.sk-item::before, #sk-container-id-2 div.sk-parallel-item::before {content: \"\";position: absolute;border-left: 1px solid gray;box-sizing: border-box;top: 0;bottom: 0;left: 50%;z-index: -1;}#sk-container-id-2 div.sk-parallel-item {display: flex;flex-direction: column;z-index: 1;position: relative;background-color: white;}#sk-container-id-2 div.sk-parallel-item:first-child::after {align-self: flex-end;width: 50%;}#sk-container-id-2 div.sk-parallel-item:last-child::after {align-self: flex-start;width: 50%;}#sk-container-id-2 div.sk-parallel-item:only-child::after {width: 0;}#sk-container-id-2 div.sk-dashed-wrapped {border: 1px dashed gray;margin: 0 0.4em 0.5em 0.4em;box-sizing: border-box;padding-bottom: 0.4em;background-color: white;}#sk-container-id-2 div.sk-label label {font-family: monospace;font-weight: bold;display: inline-block;line-height: 1.2em;}#sk-container-id-2 div.sk-label-container {text-align: center;}#sk-container-id-2 div.sk-container {/* jupyter's `normalize.less` sets `[hidden] { display: none; }` but bootstrap.min.css set `[hidden] { display: none !important; }` so we also need the `!important` here to be able to override the default hidden behavior on the sphinx rendered scikit-learn.org. See: https://github.com/scikit-learn/scikit-learn/issues/21755 */display: inline-block !important;position: relative;}#sk-container-id-2 div.sk-text-repr-fallback {display: none;}</style><div id=\"sk-container-id-2\" class=\"sk-top-container\"><div class=\"sk-text-repr-fallback\"><pre>Pipeline(steps=[(&#x27;col_transform&#x27;,\n",
       "                 ColumnTransformer(remainder=&#x27;passthrough&#x27;,\n",
       "                                   transformers=[(&#x27;ohe&#x27;,\n",
       "                                                  OneHotEncoder(dtype=&lt;class &#x27;int&#x27;&gt;,\n",
       "                                                                handle_unknown=&#x27;ignore&#x27;),\n",
       "                                                  [&#x27;Education_num&#x27;, &#x27;Sex&#x27;,\n",
       "                                                   &#x27;Capital_gain&#x27;,\n",
       "                                                   &#x27;Capital_loss&#x27;,\n",
       "                                                   &#x27;Hours_per_week&#x27;]),\n",
       "                                                 (&#x27;scaler&#x27;, MinMaxScaler(),\n",
       "                                                  [&#x27;Age&#x27;, &#x27;Final_weight&#x27;])])),\n",
       "                (&#x27;logit&#x27;, LogisticRegression(random_state=123))])</pre><b>In a Jupyter environment, please rerun this cell to show the HTML representation or trust the notebook. <br />On GitHub, the HTML representation is unable to render, please try loading this page with nbviewer.org.</b></div><div class=\"sk-container\" hidden><div class=\"sk-item sk-dashed-wrapped\"><div class=\"sk-label-container\"><div class=\"sk-label sk-toggleable\"><input class=\"sk-toggleable__control sk-hidden--visually\" id=\"sk-estimator-id-8\" type=\"checkbox\" ><label for=\"sk-estimator-id-8\" class=\"sk-toggleable__label sk-toggleable__label-arrow\">Pipeline</label><div class=\"sk-toggleable__content\"><pre>Pipeline(steps=[(&#x27;col_transform&#x27;,\n",
       "                 ColumnTransformer(remainder=&#x27;passthrough&#x27;,\n",
       "                                   transformers=[(&#x27;ohe&#x27;,\n",
       "                                                  OneHotEncoder(dtype=&lt;class &#x27;int&#x27;&gt;,\n",
       "                                                                handle_unknown=&#x27;ignore&#x27;),\n",
       "                                                  [&#x27;Education_num&#x27;, &#x27;Sex&#x27;,\n",
       "                                                   &#x27;Capital_gain&#x27;,\n",
       "                                                   &#x27;Capital_loss&#x27;,\n",
       "                                                   &#x27;Hours_per_week&#x27;]),\n",
       "                                                 (&#x27;scaler&#x27;, MinMaxScaler(),\n",
       "                                                  [&#x27;Age&#x27;, &#x27;Final_weight&#x27;])])),\n",
       "                (&#x27;logit&#x27;, LogisticRegression(random_state=123))])</pre></div></div></div><div class=\"sk-serial\"><div class=\"sk-item sk-dashed-wrapped\"><div class=\"sk-label-container\"><div class=\"sk-label sk-toggleable\"><input class=\"sk-toggleable__control sk-hidden--visually\" id=\"sk-estimator-id-9\" type=\"checkbox\" ><label for=\"sk-estimator-id-9\" class=\"sk-toggleable__label sk-toggleable__label-arrow\">col_transform: ColumnTransformer</label><div class=\"sk-toggleable__content\"><pre>ColumnTransformer(remainder=&#x27;passthrough&#x27;,\n",
       "                  transformers=[(&#x27;ohe&#x27;,\n",
       "                                 OneHotEncoder(dtype=&lt;class &#x27;int&#x27;&gt;,\n",
       "                                               handle_unknown=&#x27;ignore&#x27;),\n",
       "                                 [&#x27;Education_num&#x27;, &#x27;Sex&#x27;, &#x27;Capital_gain&#x27;,\n",
       "                                  &#x27;Capital_loss&#x27;, &#x27;Hours_per_week&#x27;]),\n",
       "                                (&#x27;scaler&#x27;, MinMaxScaler(),\n",
       "                                 [&#x27;Age&#x27;, &#x27;Final_weight&#x27;])])</pre></div></div></div><div class=\"sk-parallel\"><div class=\"sk-parallel-item\"><div class=\"sk-item\"><div class=\"sk-label-container\"><div class=\"sk-label sk-toggleable\"><input class=\"sk-toggleable__control sk-hidden--visually\" id=\"sk-estimator-id-10\" type=\"checkbox\" ><label for=\"sk-estimator-id-10\" class=\"sk-toggleable__label sk-toggleable__label-arrow\">ohe</label><div class=\"sk-toggleable__content\"><pre>[&#x27;Education_num&#x27;, &#x27;Sex&#x27;, &#x27;Capital_gain&#x27;, &#x27;Capital_loss&#x27;, &#x27;Hours_per_week&#x27;]</pre></div></div></div><div class=\"sk-serial\"><div class=\"sk-item\"><div class=\"sk-estimator sk-toggleable\"><input class=\"sk-toggleable__control sk-hidden--visually\" id=\"sk-estimator-id-11\" type=\"checkbox\" ><label for=\"sk-estimator-id-11\" class=\"sk-toggleable__label sk-toggleable__label-arrow\">OneHotEncoder</label><div class=\"sk-toggleable__content\"><pre>OneHotEncoder(dtype=&lt;class &#x27;int&#x27;&gt;, handle_unknown=&#x27;ignore&#x27;)</pre></div></div></div></div></div></div><div class=\"sk-parallel-item\"><div class=\"sk-item\"><div class=\"sk-label-container\"><div class=\"sk-label sk-toggleable\"><input class=\"sk-toggleable__control sk-hidden--visually\" id=\"sk-estimator-id-12\" type=\"checkbox\" ><label for=\"sk-estimator-id-12\" class=\"sk-toggleable__label sk-toggleable__label-arrow\">scaler</label><div class=\"sk-toggleable__content\"><pre>[&#x27;Age&#x27;, &#x27;Final_weight&#x27;]</pre></div></div></div><div class=\"sk-serial\"><div class=\"sk-item\"><div class=\"sk-estimator sk-toggleable\"><input class=\"sk-toggleable__control sk-hidden--visually\" id=\"sk-estimator-id-13\" type=\"checkbox\" ><label for=\"sk-estimator-id-13\" class=\"sk-toggleable__label sk-toggleable__label-arrow\">MinMaxScaler</label><div class=\"sk-toggleable__content\"><pre>MinMaxScaler()</pre></div></div></div></div></div></div><div class=\"sk-parallel-item\"><div class=\"sk-item\"><div class=\"sk-label-container\"><div class=\"sk-label sk-toggleable\"><input class=\"sk-toggleable__control sk-hidden--visually\" id=\"sk-estimator-id-14\" type=\"checkbox\" ><label for=\"sk-estimator-id-14\" class=\"sk-toggleable__label sk-toggleable__label-arrow\">remainder</label><div class=\"sk-toggleable__content\"><pre></pre></div></div></div><div class=\"sk-serial\"><div class=\"sk-item\"><div class=\"sk-estimator sk-toggleable\"><input class=\"sk-toggleable__control sk-hidden--visually\" id=\"sk-estimator-id-15\" type=\"checkbox\" ><label for=\"sk-estimator-id-15\" class=\"sk-toggleable__label sk-toggleable__label-arrow\">passthrough</label><div class=\"sk-toggleable__content\"><pre>passthrough</pre></div></div></div></div></div></div></div></div><div class=\"sk-item\"><div class=\"sk-estimator sk-toggleable\"><input class=\"sk-toggleable__control sk-hidden--visually\" id=\"sk-estimator-id-16\" type=\"checkbox\" ><label for=\"sk-estimator-id-16\" class=\"sk-toggleable__label sk-toggleable__label-arrow\">LogisticRegression</label><div class=\"sk-toggleable__content\"><pre>LogisticRegression(random_state=123)</pre></div></div></div></div></div></div></div>"
      ],
      "text/plain": [
       "Pipeline(steps=[('col_transform',\n",
       "                 ColumnTransformer(remainder='passthrough',\n",
       "                                   transformers=[('ohe',\n",
       "                                                  OneHotEncoder(dtype=<class 'int'>,\n",
       "                                                                handle_unknown='ignore'),\n",
       "                                                  ['Education_num', 'Sex',\n",
       "                                                   'Capital_gain',\n",
       "                                                   'Capital_loss',\n",
       "                                                   'Hours_per_week']),\n",
       "                                                 ('scaler', MinMaxScaler(),\n",
       "                                                  ['Age', 'Final_weight'])])),\n",
       "                ('logit', LogisticRegression(random_state=123))])"
      ]
     },
     "execution_count": 14,
     "metadata": {},
     "output_type": "execute_result"
    }
   ],
   "source": [
    "from sklearn.linear_model import LogisticRegression\n",
    "\n",
    "\n",
    "# Instantiating using Logistic Regression\n",
    "logit = LogisticRegression(random_state=RANDOM_STATE)\n",
    "\n",
    "# Adding logistic regression to the pipeline\n",
    "pipe_logit = Pipeline(\n",
    "    steps=[\n",
    "        # The Column Transformer pipeline\n",
    "        (\"col_transform\", col_transform),\n",
    "        # The logistic Regression\n",
    "        (\"logit\", logit),\n",
    "    ]\n",
    ")\n",
    "\n",
    "pipe_logit"
   ]
  },
  {
   "cell_type": "markdown",
   "id": "05a59614-32db-4b2c-9781-e604ee07c0e7",
   "metadata": {},
   "source": [
    "**I'm inistantiating the scaled and encoded variables using logistic regression and passing it to another pipeline.**"
   ]
  },
  {
   "cell_type": "code",
   "execution_count": 15,
   "id": "rVURC9Mm6KyF",
   "metadata": {
    "colab": {
     "base_uri": "https://localhost:8080/"
    },
    "id": "rVURC9Mm6KyF",
    "outputId": "53075ba1-49e1-4d9f-f12b-7bdfa2515e84"
   },
   "outputs": [
    {
     "name": "stderr",
     "output_type": "stream",
     "text": [
      "C:\\Users\\new\\anaconda3\\lib\\site-packages\\sklearn\\linear_model\\_logistic.py:458: ConvergenceWarning: lbfgs failed to converge (status=1):\n",
      "STOP: TOTAL NO. of ITERATIONS REACHED LIMIT.\n",
      "\n",
      "Increase the number of iterations (max_iter) or scale the data as shown in:\n",
      "    https://scikit-learn.org/stable/modules/preprocessing.html\n",
      "Please also refer to the documentation for alternative solver options:\n",
      "    https://scikit-learn.org/stable/modules/linear_model.html#logistic-regression\n",
      "  n_iter_i = _check_optimize_result(\n"
     ]
    }
   ],
   "source": [
    "# Fitting\n",
    "pipe_logit.fit(X_train, y_train)\n",
    "\n",
    "# Making the predictions\n",
    "y_pred = pipe_logit.predict(X_test)\n",
    "\n",
    "# Probability of making over 50k(>50k)\n",
    "y_proba = pipe_logit.predict_proba(X_test)[:, 1]"
   ]
  },
  {
   "cell_type": "markdown",
   "id": "e0c85e5c-1761-42ca-9570-94b910d5ec87",
   "metadata": {},
   "source": [
    "**I'm using the logistic regression pipeline to build a machine learning module predicting the employees earning above or greater than $50k.**"
   ]
  },
  {
   "cell_type": "code",
   "execution_count": 16,
   "id": "2c934763-e61d-4f0b-b74d-59327ebb45ba",
   "metadata": {},
   "outputs": [
    {
     "data": {
      "text/plain": [
       "6512"
      ]
     },
     "execution_count": 16,
     "metadata": {},
     "output_type": "execute_result"
    }
   ],
   "source": [
    "len(y_pred)"
   ]
  },
  {
   "cell_type": "code",
   "execution_count": 17,
   "id": "BgBozYR98alo",
   "metadata": {
    "colab": {
     "base_uri": "https://localhost:8080/"
    },
    "id": "BgBozYR98alo",
    "outputId": "a7367b72-63fa-4829-ac88-80eb1377b7c6",
    "scrolled": true,
    "tags": []
   },
   "outputs": [
    {
     "data": {
      "text/plain": [
       "array([' <=50K', ' <=50K', ' <=50K', ..., ' <=50K', ' <=50K', ' <=50K'],\n",
       "      dtype=object)"
      ]
     },
     "execution_count": 17,
     "metadata": {},
     "output_type": "execute_result"
    }
   ],
   "source": [
    "# Checking the predictions.\n",
    "y_pred"
   ]
  },
  {
   "cell_type": "code",
   "execution_count": 18,
   "id": "0FPf-EkWCHXs",
   "metadata": {
    "colab": {
     "base_uri": "https://localhost:8080/"
    },
    "id": "0FPf-EkWCHXs",
    "outputId": "7dc5af12-e0aa-4018-f870-d1db658c9174"
   },
   "outputs": [
    {
     "data": {
      "text/plain": [
       "array([0.21321917, 0.34864215, 0.1163262 , ..., 0.13236187, 0.00503311,\n",
       "       0.07080511])"
      ]
     },
     "execution_count": 18,
     "metadata": {},
     "output_type": "execute_result"
    }
   ],
   "source": [
    "# Checking the probability.\n",
    "y_proba"
   ]
  },
  {
   "cell_type": "markdown",
   "id": "7c9f4fec-9cfc-4f69-8546-a87ab5b6a8f4",
   "metadata": {},
   "source": [
    "**Above are the probability of the employees earning above or greater than $50k.**"
   ]
  },
  {
   "cell_type": "code",
   "execution_count": 19,
   "id": "c36a2958-6b09-473d-9053-bd8e3e0182a2",
   "metadata": {},
   "outputs": [
    {
     "data": {
      "text/plain": [
       "0.8507371007371007"
      ]
     },
     "execution_count": 19,
     "metadata": {},
     "output_type": "execute_result"
    }
   ],
   "source": [
    "# Calculating the accuracy.\n",
    "np.mean(y_test == y_pred)"
   ]
  },
  {
   "cell_type": "code",
   "execution_count": 20,
   "id": "i5dj1zzyCUpK",
   "metadata": {
    "colab": {
     "base_uri": "https://localhost:8080/"
    },
    "id": "i5dj1zzyCUpK",
    "outputId": "fa8db448-bda5-4c75-fbb6-39bdcd6a045e"
   },
   "outputs": [
    {
     "data": {
      "text/plain": [
       " <=50K    76.320639\n",
       " >50K     23.679361\n",
       "Name: Salary, dtype: float64"
      ]
     },
     "execution_count": 20,
     "metadata": {},
     "output_type": "execute_result"
    }
   ],
   "source": [
    "# Checking the percentage\n",
    "y_test.value_counts(normalize=True).mul(100)"
   ]
  },
  {
   "cell_type": "code",
   "execution_count": 21,
   "id": "vZ9AQB5LxFhs",
   "metadata": {
    "colab": {
     "base_uri": "https://localhost:8080/"
    },
    "id": "vZ9AQB5LxFhs",
    "outputId": "1b71891c-6a0d-459c-af5a-9fb3512575df"
   },
   "outputs": [
    {
     "data": {
      "text/plain": [
       "array([[4796,  174],\n",
       "       [ 798,  744]], dtype=int64)"
      ]
     },
     "execution_count": 21,
     "metadata": {},
     "output_type": "execute_result"
    }
   ],
   "source": [
    "# Accessing the model performance using metrics\n",
    "from sklearn import metrics\n",
    "\n",
    "# 1. The confusion matrix of metrics\n",
    "labels = [0, 1]\n",
    "labels = [\"<=50K\", \">50K\"]\n",
    "\n",
    "conf_matrix = metrics.confusion_matrix(y_true=y_test, y_pred=y_pred)\n",
    "conf_matrix"
   ]
  },
  {
   "cell_type": "markdown",
   "id": "0fe31a68-1d64-4295-a553-72903897dd13",
   "metadata": {},
   "source": [
    "**Accessing the performances of the model using confusion matrix of metrics and it shows the true positive and false positive on the left side and the false negative and true negative on the right side.**"
   ]
  },
  {
   "cell_type": "code",
   "execution_count": 22,
   "id": "UVa11TQMyiAK",
   "metadata": {
    "colab": {
     "base_uri": "https://localhost:8080/",
     "height": 474
    },
    "id": "UVa11TQMyiAK",
    "outputId": "b13b8fad-ebed-44c6-db89-7a060b0e0366"
   },
   "outputs": [
    {
     "data": {
      "image/png": "[encoded data removed]",
      "text/plain": [
       "<Figure size 640x480 with 2 Axes>"
      ]
     },
     "metadata": {},
     "output_type": "display_data"
    }
   ],
   "source": [
    "import matplotlib.pyplot as plt\n",
    "\n",
    "# Display Confusion Matix\n",
    "disp = metrics.ConfusionMatrixDisplay(\n",
    "    confusion_matrix=conf_matrix, display_labels=labels\n",
    ")\n",
    "\n",
    "disp.plot(cmap=plt.cm.Greens_r)\n",
    "plt.title(\"Confusion Matrix\", size=15)\n",
    "plt.show()"
   ]
  },
  {
   "cell_type": "markdown",
   "id": "21043c3e-4aac-4650-8a5a-b5ae7009249a",
   "metadata": {},
   "source": [
    "**I used matplotlib to plot the confusion matrix metrics showing:** \n",
    "\n",
    "**true positive to be 4796,** \n",
    "\n",
    "**false positive is 798,**\n",
    "\n",
    "**false negative 174,** \n",
    "\n",
    "**true negative is 744.**"
   ]
  },
  {
   "cell_type": "code",
   "execution_count": 23,
   "id": "72f73c44-90df-4029-8373-6b57fc28c7de",
   "metadata": {},
   "outputs": [
    {
     "data": {
      "text/plain": [
       "0.964989939637827"
      ]
     },
     "execution_count": 23,
     "metadata": {},
     "output_type": "execute_result"
    }
   ],
   "source": [
    "# Calculating Recall\n",
    "TP = 4796\n",
    "FP = 798\n",
    "FN = 174\n",
    "TN = 744\n",
    "\n",
    "\n",
    "Recall = (TP) / (TP + FN)\n",
    "Recall"
   ]
  },
  {
   "cell_type": "code",
   "execution_count": 24,
   "id": "261284ac-91cc-41cd-942a-fa13c60f3036",
   "metadata": {},
   "outputs": [
    {
     "data": {
      "text/plain": [
       "0.857347157668931"
      ]
     },
     "execution_count": 24,
     "metadata": {},
     "output_type": "execute_result"
    }
   ],
   "source": [
    "# Calculating Precision\n",
    "Precision = TP / (TP + FP)\n",
    "Precision"
   ]
  },
  {
   "cell_type": "code",
   "execution_count": 25,
   "id": "43ab425b-5765-482b-bb65-c521af25f952",
   "metadata": {},
   "outputs": [
    {
     "data": {
      "text/plain": [
       "0.90798939795532"
      ]
     },
     "execution_count": 25,
     "metadata": {},
     "output_type": "execute_result"
    }
   ],
   "source": [
    "# F1 Score: Harmonic mean\n",
    "F1_Score = (2 * Recall * Precision) / (Recall + Precision)\n",
    "F1_Score"
   ]
  },
  {
   "cell_type": "code",
   "execution_count": 26,
   "id": "_RYxteYvyzLo",
   "metadata": {
    "colab": {
     "base_uri": "https://localhost:8080/"
    },
    "id": "_RYxteYvyzLo",
    "outputId": "6c4b00e5-1d12-4b29-ca5f-e0112507f643"
   },
   "outputs": [
    {
     "name": "stdout",
     "output_type": "stream",
     "text": [
      "              precision    recall  f1-score   support\n",
      "\n",
      "       <=50K       0.86      0.96      0.91      4970\n",
      "        >50K       0.81      0.48      0.60      1542\n",
      "\n",
      "    accuracy                           0.85      6512\n",
      "   macro avg       0.83      0.72      0.76      6512\n",
      "weighted avg       0.85      0.85      0.84      6512\n",
      "\n"
     ]
    }
   ],
   "source": [
    "# The classification report of metrics\n",
    "clf_reprt = metrics.classification_report(y_true=y_test, y_pred=y_pred)\n",
    "\n",
    "print(clf_reprt)"
   ]
  },
  {
   "cell_type": "code",
   "execution_count": 27,
   "id": "HIy46nG406Kw",
   "metadata": {
    "colab": {
     "base_uri": "https://localhost:8080/"
    },
    "id": "HIy46nG406Kw",
    "outputId": "f425347f-00dd-481e-cd3f-2d953a1058eb"
   },
   "outputs": [
    {
     "data": {
      "text/plain": [
       "0.8787415804815926"
      ]
     },
     "execution_count": 27,
     "metadata": {},
     "output_type": "execute_result"
    }
   ],
   "source": [
    "# The roc_auc_score metrics\n",
    "roc_auc_score = metrics.roc_auc_score(y_true=y_test, y_score=y_proba)\n",
    "roc_auc_score"
   ]
  },
  {
   "cell_type": "markdown",
   "id": "c376e6db-3361-45a9-9139-dabdc3f8d616",
   "metadata": {
    "id": "T3BhT-zw15kO"
   },
   "source": [
    "**All the metrics scores for evaluating the performance of the model show how good the model is on a scale of 0-1 and the higher the score the better the model is.**"
   ]
  }
 ],
 "metadata": {
  "colab": {
   "provenance": []
  },
  "kernelspec": {
   "display_name": "Python 3 (ipykernel)",
   "language": "python",
   "name": "python3"
  },
  "language_info": {
   "codemirror_mode": {
    "name": "ipython",
    "version": 3
   },
   "file_extension": ".py",
   "mimetype": "text/x-python",
   "name": "python",
   "nbconvert_exporter": "python",
   "pygments_lexer": "ipython3",
   "version": "3.9.13"
  }
 },
 "nbformat": 4,
 "nbformat_minor": 5
}
